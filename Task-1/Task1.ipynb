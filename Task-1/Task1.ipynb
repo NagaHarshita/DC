{
 "cells": [
  {
   "cell_type": "code",
   "execution_count": 15,
   "id": "suburban-identity",
   "metadata": {},
   "outputs": [],
   "source": [
    "import pandas as pd\n",
    "from Similarity import DocSim"
   ]
  },
  {
   "cell_type": "code",
   "execution_count": 16,
   "id": "distinguished-currency",
   "metadata": {},
   "outputs": [
    {
     "name": "stdout",
     "output_type": "stream",
     "text": [
      "NoneModel ready: False\n",
      "Loading default GloVe word vector model: glove-wiki-gigaword-50\n",
      "\n",
      "<gensim.models.keyedvectors.Word2VecKeyedVectors object at 0x7f978c982940>\n",
      "Model loaded\n"
     ]
    }
   ],
   "source": [
    "docsim_obj = DocSim(verbose=True)\n",
    "print(f'Model ready: {docsim_obj.model_ready}')"
   ]
  },
  {
   "cell_type": "code",
   "execution_count": 8,
   "id": "guilty-circle",
   "metadata": {},
   "outputs": [
    {
     "name": "stdout",
     "output_type": "stream",
     "text": [
      "20307 documents\n"
     ]
    }
   ],
   "source": [
    "df = pd.read_csv(r'./questions.csv')\n",
    "Ids = df['quesId']\n",
    "titles = df['summary']\n",
    "documents = df['summary']\n",
    "\n",
    "print(f'{len(documents)} documents')"
   ]
  },
  {
   "cell_type": "code",
   "execution_count": 17,
   "id": "dressed-workshop",
   "metadata": {},
   "outputs": [],
   "source": [
    "df2 = pd.read_csv(r'./unanswered.csv')\n",
    "title = df2['quesId']\n",
    "queries = df2['summary']"
   ]
  },
  {
   "cell_type": "code",
   "execution_count": 18,
   "id": "bizarre-night",
   "metadata": {},
   "outputs": [
    {
     "name": "stdout",
     "output_type": "stream",
     "text": [
      "20307 documents loaded into corpus\n",
      "Is there a way to emulate a Android OS upgrade scenario on AVD emulator?\n",
      "4420 \t 0.678 \t How to emulate GPS location in the Android Emulator?\n",
      "10379 \t 0.672 \t Run AVD Emulator without Android Studio\n",
      "18225 \t 0.592 \t Emulator error: This AVD's configuration is missing a kernel file\n",
      "7682 \t 0.580 \t How do I change screen orientation in the Android emulator?\n",
      "7678 \t 0.546 \t Paste text on Android Emulator\n",
      "20307 documents loaded into corpus\n",
      "Representing Parametric Survival Model in 'Counting Process' form in JAGS\n",
      "14360 \t 1.000 \t Representing Parametric Survival Model in 'Counting Process' form in JAGS\n",
      "20307 documents loaded into corpus\n",
      "Is there such a thing as a dish being bland from too many flavors?\n",
      "99 \t 1.000 \t Is there such a thing as a dish being bland from too many flavors?\n",
      "13552 \t 0.604 \t Is AsyncTask really conceptually flawed or am I just missing something?\n",
      "11786 \t 0.577 \t Android Studio 3.0 Flavor Dimension Issue\n",
      "1467 \t 0.568 \t What REALLY happens when you don't free after malloc?\n",
      "13742 \t 0.568 \t What really happens in a try { return x; } finally { x = null; } statement?\n",
      "20307 documents loaded into corpus\n",
      "How does pytorch's parallel method and distributed method work?\n",
      "11309 \t 0.712 \t How does the “view” method work in PyTorch?\n",
      "18325 \t 0.607 \t Simple basic explanation of a Distributed Hash Table (DHT)\n",
      "5933 \t 0.550 \t How to print out the method name and line number and conditionally disable NSLog?\n",
      "8983 \t 0.550 \t Print current call stack from a method in Python code\n",
      "8576 \t 0.543 \t How to pass json POST data to Web API method as an object?\n",
      "20307 documents loaded into corpus\n",
      "Android Usage Access for Android 5 Samsung devices\n",
      "9626 \t 0.755 \t RecyclerView and java.lang.IndexOutOfBoundsException: Inconsistency detected. Invalid view holder adapter positionViewHolder in Samsung devices\n",
      "62 \t 0.705 \t What was the 1 MHz bus used for on the BBC micro series?\n",
      "9923 \t 0.694 \t How to Sync iPhone Core Data with web server, and then push to other devices? [closed]\n",
      "2999 \t 0.686 \t How do I write a correct micro-benchmark in Java?\n",
      "17914 \t 0.665 \t How to get Latitude and Longitude of the mobile device in android?\n",
      "20307 documents loaded into corpus\n",
      "RAML 1.0 representation of Java Map\n",
      "6761 \t 0.589 \t Convert a string representation of a hex dump to a byte array using Java?\n",
      "18871 \t 0.589 \t Converting an int to a binary string representation in Java?\n",
      "658 \t 0.541 \t String representation of an Enum\n",
      "695 \t 0.541 \t Convert a String representation of a Dictionary to a dictionary?\n",
      "1273 \t 0.541 \t How to convert string representation of list to a list?\n",
      "20307 documents loaded into corpus\n",
      "How did Luke get his lightsaber back from Raynar Thul?\n",
      "105 \t 1.000 \t How did Luke get his lightsaber back from Raynar Thul?\n",
      "20307 documents loaded into corpus\n",
      "MarkerClick works but InfoWindowClick does not open ViewModel\n",
      "20307 documents loaded into corpus\n",
      "What is wrong with the $f$ symbol?\n",
      "24 \t 1.000 \t What is wrong with the $f$ symbol?\n",
      "1534 \t 0.655 \t What does the @ symbol before a variable name mean in C#? [duplicate]\n",
      "439 \t 0.654 \t Easy interview question got harder: given numbers 1..100, find the missing number(s) given exactly k are missing\n",
      "7271 \t 0.638 \t How do I print my Java object without getting “SomeType@2f92e0f4”?\n",
      "16472 \t 0.626 \t Could not load file or assembly “System.Net.Http, Version=4.0.0.0, Culture=neutral, PublicKeyToken=b03f5f7f11d50a3a”\n",
      "20307 documents loaded into corpus\n",
      "Why should BJTs be saturated in switching circuits?\n",
      "63 \t 1.000 \t Why should BJTs be saturated in switching circuits?\n",
      "4492 \t 0.626 \t Git checkout: updating paths is incompatible with switching branches\n",
      "5758 \t 0.626 \t Is there any way to redraw tmux window when switching smaller monitor to bigger one?\n",
      "6860 \t 0.626 \t How do I install Java on Mac OSX allowing version switching?\n",
      "7970 \t 0.626 \t Switching to landscape mode in Android Emulator\n",
      "20307 documents loaded into corpus\n",
      "Google Calendar Push Notifications SetUp\n",
      "16140 \t 0.663 \t Determine on iPhone if user has enabled push notifications\n",
      "10786 \t 0.646 \t Push Notifications in Android Platform\n",
      "10046 \t 0.603 \t Generate .pem file used to set up Apple Push Notifications\n",
      "16387 \t 0.570 \t Android Push Notifications: Icon not displaying in notification, white square shown instead\n",
      "16642 \t 0.538 \t How to display count of notifications in app launcher icon [duplicate]\n",
      "20307 documents loaded into corpus\n",
      "Is it possible to directly apply an affine transformation matrix to a Mayavi ImageActor object?\n",
      "18997 \t 0.504 \t What is the inverse function of zip in python? [duplicate]\n",
      "20307 documents loaded into corpus\n",
      "Artificial decomposition in Scrum\n",
      "150 \t 1.000 \t Artificial decomposition in Scrum\n",
      "6242 \t 0.569 \t What are advantages of Artificial Neural Networks over Support Vector Machines? [closed]\n",
      "6698 \t 0.569 \t What is the difference between Scrum and Agile Development? [closed]\n",
      "20307 documents loaded into corpus\n",
      "Strange suction in toilet and sink, like a vacuum in the sewer pulling the water out\n",
      "166 \t 1.000 \t Strange suction in toilet and sink, like a vacuum in the sewer pulling the water out\n",
      "9431 \t 0.538 \t Format date as dd/MM/yyyy using pipes\n",
      "13838 \t 0.538 \t How to use `subprocess` command with pipes\n",
      "20307 documents loaded into corpus\n",
      "Head shaving when father is alive\n",
      "73 \t 1.000 \t Head shaving when father is alive\n",
      "137 \t 0.619 \t Find X and Y so that they are never equal\n",
      "2828 \t 0.593 \t Use of PUT vs PATCH methods in REST API real life scenarios\n",
      "18641 \t 0.552 \t Does a const reference class member prolong the life of a temporary?\n",
      "2475 \t 0.551 \t IntelliJ: Never use wildcard imports\n",
      "20307 documents loaded into corpus\n",
      "Explanation /bin/bash -c “$(curl -fsSL https://raw.githubusercontent.com/Homebrew/install/HEAD/install.sh)”\n",
      "80 \t 1.000 \t Explanation /bin/bash -c “$(curl -fsSL https://raw.githubusercontent.com/Homebrew/install/HEAD/install.sh)”\n",
      "20307 documents loaded into corpus\n",
      "How do I voice my opinion that the teaching of students is being neglected?\n",
      "169 \t 1.000 \t How do I voice my opinion that the teaching of students is being neglected?\n",
      "8679 \t 0.624 \t Using the RUN instruction in a Dockerfile with 'source' does not work\n",
      "78 \t 0.592 \t What to do with students requesting deadline extension due to the death of a relative (but without a doctor's note)?\n",
      "383 \t 0.561 \t Why do Python classes inherit object?\n",
      "1000 \t 0.561 \t wildcard * in CSS for classes\n",
      "20307 documents loaded into corpus\n",
      "Differences Between the Central Limit Theorem and Consistency\n",
      "52 \t 1.000 \t Differences Between the Central Limit Theorem and Consistency\n",
      "15163 \t 0.526 \t How to limit google autocomplete results to City and Country only\n",
      "20307 documents loaded into corpus\n",
      "Packing equal-size disks in a unit disk\n",
      "82 \t 1.000 \t Packing equal-size disks in a unit disk\n",
      "696 \t 0.717 \t Xcode error “Could not find Developer Disk Image”\n",
      "6680 \t 0.717 \t How do I git rm a file without deleting it from disk? [duplicate]\n",
      "8821 \t 0.717 \t How to save a plot as image on the disk?\n",
      "12184 \t 0.717 \t The APK file does not exist on disk\n",
      "20307 documents loaded into corpus\n",
      "How to protect a <input type='password'/> from XSS?\n",
      "139 \t 1.000 \t How to protect a <input type='password'/> from XSS?\n",
      "16815 \t 0.877 \t What is the http-header “X-XSS-Protection”?\n",
      "10399 \t 0.840 \t How to prevent XSS with HTML/PHP?\n",
      "7087 \t 0.777 \t CORS: Cannot use wildcard in Access-Control-Allow-Origin when credentials flag is true\n",
      "11502 \t 0.727 \t JVM option -Xss - What does it do exactly?\n",
      "20307 documents loaded into corpus\n",
      "Have any versions of “Who Wants to be a Millionaire?” had to remove the Ask the Audience lifeline due to the audience purposely voting wrong?\n",
      "115 \t 1.000 \t Have any versions of “Who Wants to be a Millionaire?” had to remove the Ask the Audience lifeline due to the audience purposely voting wrong?\n",
      "13370 \t 0.584 \t Payment Processors - What do I need to know if I want to accept credit cards on my website? [closed]\n",
      "10883 \t 0.560 \t When writing a directive in AngularJS, how do I decide if I need no new scope, a new child scope, or a new isolated scope?\n",
      "17588 \t 0.552 \t How to “git show” a merge commit with combined diff output even when every changed file agrees with one of the parents?\n",
      "8981 \t 0.552 \t What is the maven-shade-plugin used for, and why would you want to relocate Java packages?\n"
     ]
    },
    {
     "name": "stdout",
     "output_type": "stream",
     "text": [
      "20307 documents loaded into corpus\n",
      "How do market makers calculate the IV for options?\n",
      "47 \t 1.000 \t How do market makers calculate the IV for options?\n",
      "11166 \t 0.619 \t Where could I buy a valid SSL certificate? [closed]\n",
      "8191 \t 0.608 \t “To Do” list before publishing Android app to market [closed]\n",
      "10 \t 0.577 \t Getting buy-in for clean code and refactoring\n",
      "31 \t 0.577 \t Recommendations on how to buy clipless bike shoes\n",
      "20307 documents loaded into corpus\n",
      "Best way to write $\\lim^1$\n",
      "68 \t 1.000 \t Best way to write $\\lim^1$\n",
      "5720 \t 0.551 \t Best way to read a large file into a byte array in C#?\n",
      "10696 \t 0.541 \t New to unit testing, how to write great tests? [closed]\n",
      "3263 \t 0.535 \t Correct way to write line to file?\n",
      "4467 \t 0.535 \t Easy way to write contents of a Java InputStream to an OutputStream\n",
      "20307 documents loaded into corpus\n",
      "Easily download SE posts as notebooks?\n",
      "66 \t 1.000 \t Easily download SE posts as notebooks?\n",
      "20307 documents loaded into corpus\n",
      "Why is there a bright edge in my photos even though my studio lights provide even coverage?\n",
      "45 \t 1.000 \t Why is there a bright edge in my photos even though my studio lights provide even coverage?\n",
      "7959 \t 0.701 \t Difference between Big-O and Little-O Notation\n",
      "14910 \t 0.701 \t How do I convert between big-endian and little-endian values in C++?\n",
      "14433 \t 0.677 \t Git status shows files as changed even though contents are the same\n",
      "6828 \t 0.676 \t Can't access object property, even though it shows up in a console log\n",
      "20307 documents loaded into corpus\n",
      "Construction I need help clarifying in Otfried Preußler's “Krabat”\n",
      "76 \t 1.000 \t Construction I need help clarifying in Otfried Preußler's “Krabat”\n",
      "20307 documents loaded into corpus\n"
     ]
    },
    {
     "ename": "KeyboardInterrupt",
     "evalue": "",
     "output_type": "error",
     "traceback": [
      "\u001b[0;31m---------------------------------------------------------------------------\u001b[0m",
      "\u001b[0;31mKeyboardInterrupt\u001b[0m                         Traceback (most recent call last)",
      "\u001b[0;32m<ipython-input-18-03b76c5b7a6e>\u001b[0m in \u001b[0;36m<module>\u001b[0;34m\u001b[0m\n\u001b[1;32m      1\u001b[0m \u001b[0;32mfor\u001b[0m \u001b[0mquery\u001b[0m \u001b[0;32min\u001b[0m \u001b[0mqueries\u001b[0m\u001b[0;34m:\u001b[0m\u001b[0;34m\u001b[0m\u001b[0;34m\u001b[0m\u001b[0m\n\u001b[0;32m----> 2\u001b[0;31m     \u001b[0msimilarities\u001b[0m \u001b[0;34m=\u001b[0m \u001b[0mdocsim_obj\u001b[0m\u001b[0;34m.\u001b[0m\u001b[0msimilarity_query\u001b[0m\u001b[0;34m(\u001b[0m\u001b[0mquery\u001b[0m\u001b[0;34m,\u001b[0m \u001b[0mdocuments\u001b[0m\u001b[0;34m)\u001b[0m\u001b[0;34m\u001b[0m\u001b[0;34m\u001b[0m\u001b[0m\n\u001b[0m\u001b[1;32m      3\u001b[0m     \u001b[0mprint\u001b[0m\u001b[0;34m(\u001b[0m\u001b[0mquery\u001b[0m\u001b[0;34m)\u001b[0m\u001b[0;34m\u001b[0m\u001b[0;34m\u001b[0m\u001b[0m\n\u001b[1;32m      4\u001b[0m     \u001b[0;32mfor\u001b[0m \u001b[0midx\u001b[0m\u001b[0;34m,\u001b[0m \u001b[0mscore\u001b[0m \u001b[0;32min\u001b[0m \u001b[0;34m(\u001b[0m\u001b[0msorted\u001b[0m\u001b[0;34m(\u001b[0m\u001b[0menumerate\u001b[0m\u001b[0;34m(\u001b[0m\u001b[0msimilarities\u001b[0m\u001b[0;34m)\u001b[0m\u001b[0;34m,\u001b[0m \u001b[0mreverse\u001b[0m\u001b[0;34m=\u001b[0m\u001b[0;32mTrue\u001b[0m\u001b[0;34m,\u001b[0m \u001b[0mkey\u001b[0m\u001b[0;34m=\u001b[0m\u001b[0;32mlambda\u001b[0m \u001b[0mx\u001b[0m\u001b[0;34m:\u001b[0m \u001b[0mx\u001b[0m\u001b[0;34m[\u001b[0m\u001b[0;36m1\u001b[0m\u001b[0;34m]\u001b[0m\u001b[0;34m)\u001b[0m\u001b[0;34m[\u001b[0m\u001b[0;34m:\u001b[0m\u001b[0;36m5\u001b[0m\u001b[0;34m]\u001b[0m\u001b[0;34m)\u001b[0m\u001b[0;34m:\u001b[0m\u001b[0;34m\u001b[0m\u001b[0;34m\u001b[0m\u001b[0m\n\u001b[1;32m      5\u001b[0m         \u001b[0;32mif\u001b[0m \u001b[0mscore\u001b[0m \u001b[0;34m>\u001b[0m \u001b[0;36m0.5\u001b[0m\u001b[0;34m:\u001b[0m\u001b[0;34m\u001b[0m\u001b[0;34m\u001b[0m\u001b[0m\n",
      "\u001b[0;32m~/Academics/DC/assignment2/Task-1/Similarity.py\u001b[0m in \u001b[0;36msimilarity_query\u001b[0;34m(self, query_string, documents)\u001b[0m\n\u001b[1;32m    106\u001b[0m                                                 self.dictionary, self.tfidf)\n\u001b[1;32m    107\u001b[0m \u001b[0;34m\u001b[0m\u001b[0m\n\u001b[0;32m--> 108\u001b[0;31m             \u001b[0mscores\u001b[0m \u001b[0;34m=\u001b[0m \u001b[0mself\u001b[0m\u001b[0;34m.\u001b[0m\u001b[0mcomputeSoftCosSim\u001b[0m\u001b[0;34m(\u001b[0m\u001b[0mquery\u001b[0m\u001b[0;34m,\u001b[0m \u001b[0mcorpus\u001b[0m\u001b[0;34m)\u001b[0m\u001b[0;34m\u001b[0m\u001b[0;34m\u001b[0m\u001b[0m\n\u001b[0m\u001b[1;32m    109\u001b[0m \u001b[0;34m\u001b[0m\u001b[0m\n\u001b[1;32m    110\u001b[0m             \u001b[0;32mreturn\u001b[0m \u001b[0mscores\u001b[0m\u001b[0;34m.\u001b[0m\u001b[0mtolist\u001b[0m\u001b[0;34m(\u001b[0m\u001b[0;34m)\u001b[0m\u001b[0;34m\u001b[0m\u001b[0;34m\u001b[0m\u001b[0m\n",
      "\u001b[0;32m~/Academics/DC/assignment2/venv/lib/python3.8/site-packages/gensim/similarities/termsim.py\u001b[0m in \u001b[0;36m__init__\u001b[0;34m(self, source, dictionary, tfidf, symmetric, positive_definite, nonzero_limit, dtype)\u001b[0m\n\u001b[1;32m    230\u001b[0m             \u001b[0mnum_nonzero\u001b[0m \u001b[0;34m=\u001b[0m \u001b[0mcolumn_nonzero\u001b[0m\u001b[0;34m[\u001b[0m\u001b[0mt1_index\u001b[0m\u001b[0;34m]\u001b[0m\u001b[0;34m\u001b[0m\u001b[0;34m\u001b[0m\u001b[0m\n\u001b[1;32m    231\u001b[0m             \u001b[0mnum_rows\u001b[0m \u001b[0;34m=\u001b[0m \u001b[0mnonzero_limit\u001b[0m \u001b[0;34m-\u001b[0m \u001b[0mnum_nonzero\u001b[0m\u001b[0;34m\u001b[0m\u001b[0;34m\u001b[0m\u001b[0m\n\u001b[0;32m--> 232\u001b[0;31m             most_similar = [\n\u001b[0m\u001b[1;32m    233\u001b[0m                 \u001b[0;34m(\u001b[0m\u001b[0mdictionary\u001b[0m\u001b[0;34m.\u001b[0m\u001b[0mtoken2id\u001b[0m\u001b[0;34m[\u001b[0m\u001b[0mterm\u001b[0m\u001b[0;34m]\u001b[0m\u001b[0;34m,\u001b[0m \u001b[0msimilarity\u001b[0m\u001b[0;34m)\u001b[0m\u001b[0;34m\u001b[0m\u001b[0;34m\u001b[0m\u001b[0m\n\u001b[1;32m    234\u001b[0m                 \u001b[0;32mfor\u001b[0m \u001b[0mterm\u001b[0m\u001b[0;34m,\u001b[0m \u001b[0msimilarity\u001b[0m \u001b[0;32min\u001b[0m \u001b[0mindex\u001b[0m\u001b[0;34m.\u001b[0m\u001b[0mmost_similar\u001b[0m\u001b[0;34m(\u001b[0m\u001b[0mt1\u001b[0m\u001b[0;34m,\u001b[0m \u001b[0mtopn\u001b[0m\u001b[0;34m=\u001b[0m\u001b[0mnum_rows\u001b[0m\u001b[0;34m)\u001b[0m\u001b[0;34m\u001b[0m\u001b[0;34m\u001b[0m\u001b[0m\n",
      "\u001b[0;32m~/Academics/DC/assignment2/venv/lib/python3.8/site-packages/gensim/similarities/termsim.py\u001b[0m in \u001b[0;36m<listcomp>\u001b[0;34m(.0)\u001b[0m\n\u001b[1;32m    230\u001b[0m             \u001b[0mnum_nonzero\u001b[0m \u001b[0;34m=\u001b[0m \u001b[0mcolumn_nonzero\u001b[0m\u001b[0;34m[\u001b[0m\u001b[0mt1_index\u001b[0m\u001b[0;34m]\u001b[0m\u001b[0;34m\u001b[0m\u001b[0;34m\u001b[0m\u001b[0m\n\u001b[1;32m    231\u001b[0m             \u001b[0mnum_rows\u001b[0m \u001b[0;34m=\u001b[0m \u001b[0mnonzero_limit\u001b[0m \u001b[0;34m-\u001b[0m \u001b[0mnum_nonzero\u001b[0m\u001b[0;34m\u001b[0m\u001b[0;34m\u001b[0m\u001b[0m\n\u001b[0;32m--> 232\u001b[0;31m             most_similar = [\n\u001b[0m\u001b[1;32m    233\u001b[0m                 \u001b[0;34m(\u001b[0m\u001b[0mdictionary\u001b[0m\u001b[0;34m.\u001b[0m\u001b[0mtoken2id\u001b[0m\u001b[0;34m[\u001b[0m\u001b[0mterm\u001b[0m\u001b[0;34m]\u001b[0m\u001b[0;34m,\u001b[0m \u001b[0msimilarity\u001b[0m\u001b[0;34m)\u001b[0m\u001b[0;34m\u001b[0m\u001b[0;34m\u001b[0m\u001b[0m\n\u001b[1;32m    234\u001b[0m                 \u001b[0;32mfor\u001b[0m \u001b[0mterm\u001b[0m\u001b[0;34m,\u001b[0m \u001b[0msimilarity\u001b[0m \u001b[0;32min\u001b[0m \u001b[0mindex\u001b[0m\u001b[0;34m.\u001b[0m\u001b[0mmost_similar\u001b[0m\u001b[0;34m(\u001b[0m\u001b[0mt1\u001b[0m\u001b[0;34m,\u001b[0m \u001b[0mtopn\u001b[0m\u001b[0;34m=\u001b[0m\u001b[0mnum_rows\u001b[0m\u001b[0;34m)\u001b[0m\u001b[0;34m\u001b[0m\u001b[0;34m\u001b[0m\u001b[0m\n",
      "\u001b[0;32m~/Academics/DC/assignment2/venv/lib/python3.8/site-packages/gensim/models/keyedvectors.py\u001b[0m in \u001b[0;36mmost_similar\u001b[0;34m(self, t1, topn)\u001b[0m\n\u001b[1;32m   1472\u001b[0m             \u001b[0mlogger\u001b[0m\u001b[0;34m.\u001b[0m\u001b[0mdebug\u001b[0m\u001b[0;34m(\u001b[0m\u001b[0;34m'an out-of-dictionary term \"%s\"'\u001b[0m\u001b[0;34m,\u001b[0m \u001b[0mt1\u001b[0m\u001b[0;34m)\u001b[0m\u001b[0;34m\u001b[0m\u001b[0;34m\u001b[0m\u001b[0m\n\u001b[1;32m   1473\u001b[0m         \u001b[0;32melse\u001b[0m\u001b[0;34m:\u001b[0m\u001b[0;34m\u001b[0m\u001b[0;34m\u001b[0m\u001b[0m\n\u001b[0;32m-> 1474\u001b[0;31m             \u001b[0mmost_similar\u001b[0m \u001b[0;34m=\u001b[0m \u001b[0mself\u001b[0m\u001b[0;34m.\u001b[0m\u001b[0mkeyedvectors\u001b[0m\u001b[0;34m.\u001b[0m\u001b[0mmost_similar\u001b[0m\u001b[0;34m(\u001b[0m\u001b[0mpositive\u001b[0m\u001b[0;34m=\u001b[0m\u001b[0;34m[\u001b[0m\u001b[0mt1\u001b[0m\u001b[0;34m]\u001b[0m\u001b[0;34m,\u001b[0m \u001b[0mtopn\u001b[0m\u001b[0;34m=\u001b[0m\u001b[0mtopn\u001b[0m\u001b[0;34m,\u001b[0m \u001b[0;34m**\u001b[0m\u001b[0mself\u001b[0m\u001b[0;34m.\u001b[0m\u001b[0mkwargs\u001b[0m\u001b[0;34m)\u001b[0m\u001b[0;34m\u001b[0m\u001b[0;34m\u001b[0m\u001b[0m\n\u001b[0m\u001b[1;32m   1475\u001b[0m             \u001b[0;32mfor\u001b[0m \u001b[0mt2\u001b[0m\u001b[0;34m,\u001b[0m \u001b[0msimilarity\u001b[0m \u001b[0;32min\u001b[0m \u001b[0mmost_similar\u001b[0m\u001b[0;34m:\u001b[0m\u001b[0;34m\u001b[0m\u001b[0;34m\u001b[0m\u001b[0m\n\u001b[1;32m   1476\u001b[0m                 \u001b[0;32mif\u001b[0m \u001b[0msimilarity\u001b[0m \u001b[0;34m>\u001b[0m \u001b[0mself\u001b[0m\u001b[0;34m.\u001b[0m\u001b[0mthreshold\u001b[0m\u001b[0;34m:\u001b[0m\u001b[0;34m\u001b[0m\u001b[0;34m\u001b[0m\u001b[0m\n",
      "\u001b[0;32m~/Academics/DC/assignment2/venv/lib/python3.8/site-packages/gensim/models/keyedvectors.py\u001b[0m in \u001b[0;36mmost_similar\u001b[0;34m(self, positive, negative, topn, restrict_vocab, indexer)\u001b[0m\n\u001b[1;32m    562\u001b[0m \u001b[0;34m\u001b[0m\u001b[0m\n\u001b[1;32m    563\u001b[0m         \u001b[0mlimited\u001b[0m \u001b[0;34m=\u001b[0m \u001b[0mself\u001b[0m\u001b[0;34m.\u001b[0m\u001b[0mvectors_norm\u001b[0m \u001b[0;32mif\u001b[0m \u001b[0mrestrict_vocab\u001b[0m \u001b[0;32mis\u001b[0m \u001b[0;32mNone\u001b[0m \u001b[0;32melse\u001b[0m \u001b[0mself\u001b[0m\u001b[0;34m.\u001b[0m\u001b[0mvectors_norm\u001b[0m\u001b[0;34m[\u001b[0m\u001b[0;34m:\u001b[0m\u001b[0mrestrict_vocab\u001b[0m\u001b[0;34m]\u001b[0m\u001b[0;34m\u001b[0m\u001b[0;34m\u001b[0m\u001b[0m\n\u001b[0;32m--> 564\u001b[0;31m         \u001b[0mdists\u001b[0m \u001b[0;34m=\u001b[0m \u001b[0mdot\u001b[0m\u001b[0;34m(\u001b[0m\u001b[0mlimited\u001b[0m\u001b[0;34m,\u001b[0m \u001b[0mmean\u001b[0m\u001b[0;34m)\u001b[0m\u001b[0;34m\u001b[0m\u001b[0;34m\u001b[0m\u001b[0m\n\u001b[0m\u001b[1;32m    565\u001b[0m         \u001b[0;32mif\u001b[0m \u001b[0;32mnot\u001b[0m \u001b[0mtopn\u001b[0m\u001b[0;34m:\u001b[0m\u001b[0;34m\u001b[0m\u001b[0;34m\u001b[0m\u001b[0m\n\u001b[1;32m    566\u001b[0m             \u001b[0;32mreturn\u001b[0m \u001b[0mdists\u001b[0m\u001b[0;34m\u001b[0m\u001b[0;34m\u001b[0m\u001b[0m\n",
      "\u001b[0;32m<__array_function__ internals>\u001b[0m in \u001b[0;36mdot\u001b[0;34m(*args, **kwargs)\u001b[0m\n",
      "\u001b[0;31mKeyboardInterrupt\u001b[0m: "
     ]
    }
   ],
   "source": [
    "for query in queries:\n",
    "    similarities = docsim_obj.similarity_query(query, documents)\n",
    "    print(query)\n",
    "    for idx, score in (sorted(enumerate(similarities), reverse=True, key=lambda x: x[1])[:5]):\n",
    "        if score > 0.5:\n",
    "            print(f'{idx} \\t {score:0.3f} \\t {titles[idx]}')\n",
    "        break\n",
    "    "
   ]
  },
  {
   "cell_type": "code",
   "execution_count": null,
   "id": "literary-gambling",
   "metadata": {},
   "outputs": [],
   "source": []
  }
 ],
 "metadata": {
  "kernelspec": {
   "display_name": "Python 3",
   "language": "python",
   "name": "python3"
  },
  "language_info": {
   "codemirror_mode": {
    "name": "ipython",
    "version": 3
   },
   "file_extension": ".py",
   "mimetype": "text/x-python",
   "name": "python",
   "nbconvert_exporter": "python",
   "pygments_lexer": "ipython3",
   "version": "3.8.5"
  }
 },
 "nbformat": 4,
 "nbformat_minor": 5
}
